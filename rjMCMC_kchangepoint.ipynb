{
 "cells": [
  {
   "cell_type": "code",
   "execution_count": 317,
   "metadata": {},
   "outputs": [
    {
     "data": {
      "text/plain": [
       "[<matplotlib.lines.Line2D at 0x202767424f0>]"
      ]
     },
     "execution_count": 317,
     "metadata": {},
     "output_type": "execute_result"
    },
    {
     "data": {
      "image/png": "[encoded data removed]",
      "text/plain": [
       "<Figure size 432x288 with 1 Axes>"
      ]
     },
     "metadata": {
      "needs_background": "light"
     },
     "output_type": "display_data"
    }
   ],
   "source": [
    "import numpy as np\n",
    "import pandas as pd\n",
    "import random\n",
    "from scipy.special import gamma\n",
    "from scipy.stats import norm\n",
    "import matplotlib.pyplot as plt\n",
    "from math import floor, log, sqrt\n",
    "from numbers import Number\n",
    "from statsmodels.graphics.tsaplots import plot_acf\n",
    "import pymc3 as pm\n",
    "import arviz as az\n",
    "chptdat = pd.read_table(\"COUP551_rates.dat\", sep=\"\\s+\", usecols=[0, 1], names = [\"Time Bin\", \"Counts\"], header=0)\n",
    "Y = chptdat['Counts']\n",
    "plt.plot(Y)"
   ]
  },
  {
   "cell_type": "code",
   "execution_count": 318,
   "metadata": {},
   "outputs": [],
   "source": [
    "def birth(change_points):\n",
    "    return (3.6/7) * min(1, lambda_1/(change_points+1))\n",
    "def death(change_points):\n",
    "    return (3.6/7) * min(1, change_points/lambda_1)\n",
    "def count_photon(s1, s2, Y):\n",
    "    sum_v = 0\n",
    "    for i in range(int(s1), int(s2)):\n",
    "        sum_v += Y[i]\n",
    "\n",
    "    return sum_v\n",
    "# accept probability function for Height move\n",
    "def alpha_hmove(s, h, h_tilde, j, Y,  a = 5, b= 5.5):\n",
    "        m = count_photon(s[j], s[j+1], Y)\n",
    "        log_likelihood_ratio = (h[j] - h_tilde) * (s[j+1] - s[j]) + m*(log(h_tilde) - log(h[j]))\n",
    "        log_prior_ratio = a * (log(h_tilde) - log(h[j])) - b * (h_tilde - h[j])\n",
    "        log_pi_ratio = log_likelihood_ratio + log_prior_ratio\n",
    "        return np.e**(log_pi_ratio)\n",
    "# accept probability function for Position move\n",
    "def alpha_smove(s, h, s_tilde, j, Y, a = 5, b= 5.5):\n",
    "    m1 = count_photon(s[j-1], s[j], Y)\n",
    "    m1_tilde = count_photon(s[j-1], s_tilde, Y)\n",
    "    m2 = count_photon(s[j], s[j+1], Y)\n",
    "    m2_tilde = count_photon(s_tilde,s[j+1], Y)\n",
    "    log_likelihood_ratio = (h[j] - h[j-1]) * (s_tilde - s[j]) + (m1_tilde - m1) * log(h[j-1]) + (m2_tilde - m2) * log(h[j])\n",
    "    log_prior_ratio = log((s_tilde - s[j-1])) + log((s[j+1] - s_tilde)) - log(((s[j] - s[j-1]))) - log((s[j+1] - s[j]))\n",
    "    log_pi_ratio = log_likelihood_ratio + log_prior_ratio\n",
    "    return np.e**(log_pi_ratio)\n",
    "# accept probability function for birth of step\n",
    "def alpha_birth(s,h,s_star,h1_prime,h2_prime,j,k,Y, lambda_1, a = 5, b= 5.5):\n",
    "        m1_prime = count_photon(s[j],s_star, Y)\n",
    "        m2_prime = count_photon(s_star,s[j+1], Y)\n",
    "        mj = m1_prime + m2_prime\n",
    "        log_likelihood_ratio = (\n",
    "            - h1_prime * (s_star - s[j]) - h2_prime * (s[j+1] - s_star)\n",
    "            + m1_prime * log(h1_prime) + m2_prime * log(h2_prime)\n",
    "            + h[j-1] * (s[j+1] - s[j]) - mj * log(h[j]))\n",
    "        log_prior_ratio = (log(2) + log(lambda_1) + log(2*k+1)\n",
    "                           - log(((s[k] - s[0])*(s_star - s[j])*(s[j+1] - s_star))/(s[j+1] - s[j]))\n",
    "                           + a * log(b) - log(gamma(a)) + (a-1) * (log(h1_prime) + log(h2_prime)) - a * log(h[j])\n",
    "                           - b * (h1_prime + h2_prime - h[j]))\n",
    "        log_proposal_ratio = log(death(k)) - log(birth(k-1)) - log(k)\n",
    "        log_Jacobian = 2 * log(h1_prime + h2_prime)\n",
    "        log_pi_ratio = log_likelihood_ratio + log_prior_ratio + log_proposal_ratio + log_Jacobian\n",
    "        return np.e**(log_pi_ratio)\n",
    "# accept probability function for death of step\n",
    "def alpha_death(s,h,hj_prime,j,k,Y,lambda_1,a = 5, b= 5.5):\n",
    "    m1 = count_photon(s[j],s[j+1], Y)\n",
    "    m2 = count_photon(s[j+1],s[j+2], Y)\n",
    "    mj_prime = m1 + m2\n",
    "    log_likelihood_ratio = (\n",
    "    - hj_prime * (s[j+2] - s[j]) + mj_prime * log(hj_prime)+ h[j] * (s[j+1] - s[j]) + h[j+1] * (s[j] - s[j+1]) - m1 * log(h[j]) - m2 * log(h[j+1])\n",
    "  )\n",
    "    log_prior_ratio = ((\n",
    "    - log(2) - log (lambda_1) - log(2*k-1)\n",
    "    + log((s[k] - s[0]))) - log((s[j+1] - s[j])) - log((s[j+2] - s[j+1])) + log((s[j+2] - s[j]))\n",
    "    - a * log(b) + log(gamma(a)) - (a-1) * (log(h[j]) + log(h[j+1])) + a * log(hj_prime)\n",
    "    + b * (h[j] + h[j+1] - hj_prime))\n",
    "    log_proposal_ratio = log(birth(k-2)) + log(k-1) -log(death(k-1))\n",
    "    log_Jacobian = - 2 * log(h[j] + h[j+1])\n",
    "    log_pi_ratio = log_likelihood_ratio + log_prior_ratio + log_proposal_ratio + log_Jacobian\n",
    "    return np.e**(log_pi_ratio)"
   ]
  },
  {
   "cell_type": "code",
   "execution_count": 319,
   "metadata": {},
   "outputs": [],
   "source": [
    "def move(n, h, s, k, lambda_1):\n",
    "    H = []\n",
    "    S = []\n",
    "    K = []\n",
    "    K.append(k)\n",
    "    H.append(h)\n",
    "    for i in s:\n",
    "        S.append(s)\n",
    "    for i in range(2,n+1):\n",
    "        if k <= 1:\n",
    "            position_prob = 0\n",
    "        else:\n",
    "            position_prob = 0.5 * (1 - birth(k-1) - death(k-1))\n",
    "        #if (k<=1) {position_prob <- 0} else {position_prob <- 0.5 * (1 - birth(k-1) - death(k-1))}\n",
    "        height_prob = 1 - birth(k-1) - death(k-1) - position_prob\n",
    "        type_1 = random.random()\n",
    "        if (type_1>1-height_prob):#from 1 to k is for Height h_1 to h_k\n",
    "            j = random.randint(0,k-1)\n",
    "            u = random.uniform(-0.5,0.5)\n",
    "            h_tilde = h[j] * (np.e**u)\n",
    "            U = random.random()\n",
    "            if (U < alpha_hmove(s,h,h_tilde,j,Y)):\n",
    "                h[j] = h_tilde\n",
    "        if (type_1<=1-height_prob and type_1>1-height_prob-position_prob):\n",
    "        #from 2 to k is for Position s_2 to s_k\n",
    "            j = random.randint(0,k-2)+1\n",
    "            s_tilde = random.uniform(s[j-1],s[j+1])\n",
    "            U = random.random()\n",
    "            if (U < alpha_smove(s,h,s_tilde,j,Y)):\n",
    "                s[j] = s_tilde\n",
    "\n",
    "        if (type_1>=birth(k-1) and type_1<=birth(k-1)+death(k-1)):\n",
    "            j = random.randint(0,k-2)\n",
    "            r = (s[j+2] - s[j+1]) / (s[j+2] - s[j])\n",
    "            hj_prime = (h[j]**(1-r)) * (h[j+1]**r) #exp((1-r) * log(h[j]) + r * log(h[j+1]))\n",
    "            U =  random.random()\n",
    "            if (U < alpha_death(s,h,hj_prime,j,k,Y,lambda_1)):\n",
    "                k = k - 1\n",
    "                h[j] = hj_prime\n",
    "                del h[j+1]\n",
    "                del s[j+1]\n",
    "      \n",
    "\n",
    "        if (type_1<=birth(k-1)): #from 1 to k is for birth of steps b_1 to b_k\n",
    "            j = random.randint(0,k-1)\n",
    "            s_star = random.uniform(s[j],s[j+1])\n",
    "            u = random.random()\n",
    "            if ((s[j+1] - s_star)> 0) & ((s[j+1] - s[j]) > 0):\n",
    "                r = np.e**(log(s[j+1] - s_star) - log(s[j+1] - s[j]))\n",
    "            else:\n",
    "                r = 0\n",
    "            h1_prime = h[j] * (np.e**(r * (log(u) - log(1-u))))\n",
    "            h2_prime = h[j] * (np.e**((1-r) * (log(1-u) - log(u))))\n",
    "            U = random.random()\n",
    "            if (U < alpha_birth(s,h,s_star,h1_prime,h2_prime,j,k,Y, lambda_1)):\n",
    "                s = s[0:j+1] + [s_star] + s[j+1:k+2]\n",
    "                if (j > 0):\n",
    "                    left = h[0:j]\n",
    "                else:\n",
    "                     left = []\n",
    "                if (j < k+1):\n",
    "                    right = h[j+1:k+1]\n",
    "                else:\n",
    "                    right = []\n",
    "                h = left+[h1_prime]+[h2_prime]+right\n",
    "                if isinstance(k, int):\n",
    "                    k  = k+1\n",
    "                else:\n",
    "                    k = [i+1 for i in k]\n",
    "            K.append(k)\n",
    "            H.append(h)\n",
    "            S.append(s)\n",
    "    return [H,K,S]"
   ]
  },
  {
   "cell_type": "code",
   "execution_count": 323,
   "metadata": {},
   "outputs": [
    {
     "data": {
      "text/plain": [
       "[8]"
      ]
     },
     "execution_count": 323,
     "metadata": {},
     "output_type": "execute_result"
    }
   ],
   "source": [
    "s = [8,7,6,5,4,3,2,1]\n",
    "s[0:1]"
   ]
  },
  {
   "cell_type": "code",
   "execution_count": 324,
   "metadata": {},
   "outputs": [
    {
     "data": {
      "text/plain": [
       "(array([7.0000e+00, 0.0000e+00, 7.9010e+03, 0.0000e+00, 0.0000e+00,\n",
       "        4.1324e+04, 0.0000e+00, 0.0000e+00, 5.9182e+04, 0.0000e+00,\n",
       "        0.0000e+00, 6.1607e+04, 0.0000e+00, 0.0000e+00, 5.3690e+04,\n",
       "        0.0000e+00, 0.0000e+00, 4.0177e+04, 0.0000e+00, 0.0000e+00,\n",
       "        2.5055e+04, 0.0000e+00, 0.0000e+00, 1.3314e+04, 0.0000e+00,\n",
       "        6.0980e+03, 0.0000e+00, 0.0000e+00, 2.6560e+03, 0.0000e+00,\n",
       "        0.0000e+00, 1.0960e+03, 0.0000e+00, 0.0000e+00, 4.6000e+02,\n",
       "        0.0000e+00, 0.0000e+00, 1.9800e+02, 0.0000e+00, 0.0000e+00,\n",
       "        6.8000e+01, 0.0000e+00, 0.0000e+00, 1.8000e+01, 0.0000e+00,\n",
       "        5.0000e+00]),\n",
       " array([ 1.        ,  1.34782609,  1.69565217,  2.04347826,  2.39130435,\n",
       "         2.73913043,  3.08695652,  3.43478261,  3.7826087 ,  4.13043478,\n",
       "         4.47826087,  4.82608696,  5.17391304,  5.52173913,  5.86956522,\n",
       "         6.2173913 ,  6.56521739,  6.91304348,  7.26086957,  7.60869565,\n",
       "         7.95652174,  8.30434783,  8.65217391,  9.        ,  9.34782609,\n",
       "         9.69565217, 10.04347826, 10.39130435, 10.73913043, 11.08695652,\n",
       "        11.43478261, 11.7826087 , 12.13043478, 12.47826087, 12.82608696,\n",
       "        13.17391304, 13.52173913, 13.86956522, 14.2173913 , 14.56521739,\n",
       "        14.91304348, 15.26086957, 15.60869565, 15.95652174, 16.30434783,\n",
       "        16.65217391, 17.        ]),\n",
       " <BarContainer object of 46 artists>)"
      ]
     },
     "execution_count": 324,
     "metadata": {},
     "output_type": "execute_result"
    },
    {
     "data": {
      "image/png": "[encoded data removed]",
      "text/plain": [
       "<Figure size 432x288 with 1 Axes>"
      ]
     },
     "metadata": {
      "needs_background": "light"
     },
     "output_type": "display_data"
    }
   ],
   "source": [
    "# k0 = 1\n",
    "# s0 = [1,42]\n",
    "# h0 = [5]\n",
    "# lambda_1 = 3\n",
    "# X = move(1000000, h0, s0, k0, lambda_1)\n",
    "# H = X[0]\n",
    "# K = X[1]\n",
    "# S = X[2]\n",
    "\n",
    "plt.hist(K,bins=46)\n"
   ]
  },
  {
   "cell_type": "code",
   "execution_count": null,
   "metadata": {},
   "outputs": [],
   "source": []
  }
 ],
 "metadata": {
  "kernelspec": {
   "display_name": "Python 3",
   "language": "python",
   "name": "python3"
  },
  "language_info": {
   "codemirror_mode": {
    "name": "ipython",
    "version": 3
   },
   "file_extension": ".py",
   "mimetype": "text/x-python",
   "name": "python",
   "nbconvert_exporter": "python",
   "pygments_lexer": "ipython3",
   "version": "3.7.4"
  }
 },
 "nbformat": 4,
 "nbformat_minor": 5
}
